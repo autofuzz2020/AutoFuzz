{
 "cells": [
  {
   "cell_type": "raw",
   "metadata": {
    "raw_mimetype": "text/restructuredtext"
   },
   "source": [
    ".. _nb_version:"
   ]
  },
  {
   "cell_type": "markdown",
   "metadata": {},
   "source": [
    "# Versions"
   ]
  },
  {
   "cell_type": "raw",
   "metadata": {
    "raw_mimetype": "text/restructuredtext"
   },
   "source": [
    ".. _version_0_4_2:"
   ]
  },
  {
   "cell_type": "markdown",
   "metadata": {},
   "source": [
    "#### 0.4.2\n",
    "\n",
    "- New Test Problems Suites (Constrained): DAS-CMOP and MW (contributed by cyrilpic)\n",
    "- New Operators for Permutations: OrderCrossover and InversionMutation and a usage to optimize routes for the TSP and Flowshop problem (contributed by Peng-YM )\n"
   ]
  },
  {
   "cell_type": "raw",
   "metadata": {
    "raw_mimetype": "text/restructuredtext"
   },
   "source": [
    ".. _version_0_4_1:"
   ]
  },
  {
   "cell_type": "markdown",
   "metadata": {},
   "source": [
    "#### 0.4.1\n",
    "\n",
    "- New Feature: Riesz s-Energy Method to generate a well-spaced point-set on the unit simplex (reference directions) of arbitrary size.\n",
    "- New Algorithm: An implementation of Hooke and Jeeves Pattern Search (well-known single-objective algorithm)\n",
    "- New Documentation: We have re-arranged the documentation and explain now the minimize interface in more detail.\n",
    "- New Feature: The problem can be parallelized by directly providing a starmapping callable (Contribution by Josh Karpel).\n",
    "- Bugfix: MultiLayerReferenceDirectionFactory did not work because the scaling was disabled.\n",
    "\n"
   ]
  },
  {
   "cell_type": "raw",
   "metadata": {
    "raw_mimetype": "text/restructuredtext"
   },
   "source": [
    ".. _version_0_4_0:"
   ]
  },
  {
   "cell_type": "markdown",
   "metadata": {},
   "source": [
    "#### 0.4.0 [[Documentation](https://www.egr.msu.edu/coinlab/blankjul/pymoo-0.4.0-doc.zip)]\n",
    "\n",
    "  - New Algorithm: CMA-ES (Implementation published by the Author)\n",
    "  - New Algorithm: Biased-Random Key Genetic Algorithm (BRKGA)\n",
    "  - New Test Problems: WFG\n",
    "  - New Termination Criterion: Stop an Algorithm based on Time\n",
    "  - New Termination Criterion: Objective Space Tolerance for Multi-objective Problems\n",
    "  - New Display: Easily modify the Printout in each Generation\n",
    "  - New Callback: Based on a class now to allow to store data in the object.\n",
    "  - New Visualization: Videos can be recorded to follow the algorithm's progress.\n",
    "  - Bugfix: NDScatter Plot\n",
    "  - Bugfix: Hypervolume Calculations (Vendor Library)\n",
    "\n"
   ]
  },
  {
   "cell_type": "raw",
   "metadata": {
    "raw_mimetype": "text/restructuredtext"
   },
   "source": [
    ".. _version_0_3_2:"
   ]
  },
  {
   "cell_type": "markdown",
   "metadata": {},
   "source": [
    "#### 0.3.2 [[Documentation](https://www.egr.msu.edu/coinlab/blankjul/pymoo-0.3.2-doc.zip)]\n",
    "\n",
    "  - New Algorithm: Nelder Mead with box constraint handling in the design space\n",
    "  - New Performance indicator: Karush Kuhn Tucker Proximity Measure (KKTPM)\n",
    "  - Added Tutorial: Equality constraint handling through customized repair\n",
    "  - Added Tutorial: Subset selection through GAs\n",
    "  - Added Tutorial: How to use custom variables \n",
    "  - Bugfix: No pf given for problem, no feasible solutions found\n"
   ]
  },
  {
   "cell_type": "raw",
   "metadata": {
    "raw_mimetype": "text/restructuredtext"
   },
   "source": [
    ".. _version_0_3_1:"
   ]
  },
  {
   "cell_type": "markdown",
   "metadata": {},
   "source": [
    "#### 0.3.1 [[Documentation](https://www.egr.msu.edu/coinlab/blankjul/pymoo-0.3.1-doc.zip)]\n",
    "\n",
    "  - Merging pymop into pymoo - all test problems are included\n",
    "  - Improved Getting Started Guide\n",
    "  - Added Visualization\n",
    "  - Added Decision Making\n",
    "  - Added GD+ and IGD+\n",
    "  - New Termination Criteria \"x_tol\" and \"f_tol\"\n",
    "  - Added Mixed Variable Operators and Tutorial\n",
    "  - Refactored Float to Integer Operators\n",
    "  - Fixed NSGA-III Normalization Variable Swap\n",
    "  - Fixed casting issue with latest NumPy version for integer operators\n",
    "  - Removed the dependency of Cython for installation (.c files are delivered now)\n",
    "\n"
   ]
  },
  {
   "cell_type": "raw",
   "metadata": {
    "raw_mimetype": "text/restructuredtext"
   },
   "source": [
    ".. _version_0_3_0:"
   ]
  },
  {
   "cell_type": "markdown",
   "metadata": {},
   "source": [
    "#### 0.3.0\n",
    "\n",
    "  - New documentation and global interface\n",
    "  - New crossovers: Point, HUX\n",
    "  - Improved version of DE\n",
    "  - New Factory Methods"
   ]
  },
  {
   "cell_type": "raw",
   "metadata": {
    "raw_mimetype": "text/restructuredtext"
   },
   "source": [
    ".. _version_0_2_2:"
   ]
  },
  {
   "cell_type": "markdown",
   "metadata": {},
   "source": [
    "#### 0.2.2\n",
    "\n",
    "  - Several improvements in the code structure\n",
    "  - Make the cython support optional\n",
    "  - Modifications for pymop 0.2.3"
   ]
  },
  {
   "cell_type": "raw",
   "metadata": {
    "raw_mimetype": "text/restructuredtext"
   },
   "source": [
    ".. _version_0_2_1:"
   ]
  },
  {
   "cell_type": "markdown",
   "metadata": {},
   "source": [
    "#### 0.2.1\n",
    "\n",
    "  - First official release providing NSGA2, NSGA3 and RNSGA3"
   ]
  }
 ],
 "metadata": {
  "kernelspec": {
   "display_name": "Python 3",
   "language": "python",
   "name": "python3"
  },
  "language_info": {
   "codemirror_mode": {
    "name": "ipython",
    "version": 3
   },
   "file_extension": ".py",
   "mimetype": "text/x-python",
   "name": "python",
   "nbconvert_exporter": "python",
   "pygments_lexer": "ipython3",
   "version": "3.7.3"
  },
  "pycharm": {
   "stem_cell": {
    "cell_type": "raw",
    "metadata": {
     "collapsed": false
    },
    "source": []
   }
  }
 },
 "nbformat": 4,
 "nbformat_minor": 4
}
