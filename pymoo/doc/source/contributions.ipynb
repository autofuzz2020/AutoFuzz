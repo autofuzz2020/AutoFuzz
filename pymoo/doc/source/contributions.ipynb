{
 "cells": [
  {
   "cell_type": "markdown",
   "metadata": {},
   "source": [
    "## Contributions"
   ]
  },
  {
   "cell_type": "markdown",
   "metadata": {},
   "source": [
    "Our framework is from the community to the community of multi-objective optimization. We would be more than glad if some collaborations and contributions would be happening in the near future. \n",
    "\n",
    "Some topics that are in our opinion interesting to incorporate in the future:"
   ]
  },
  {
   "cell_type": "markdown",
   "metadata": {},
   "source": [
    "- **New features:** For instance new test problems, algorithms, or any other multi-objective related implementation.\n",
    "\n",
    "- **Termination Criteria:** We have implemented rudimentary 'x_tol' and 'f_tol' termination criteria. However, a study needs to be made if those are suitable for test and/or for real-world problems. Also, what default parameter settings are suitable.\n",
    "\n",
    "- **Constraint Handling:** So far mostly parameter-less constraint handling is used. Many different strategies of handling constraints have been studied and the some state of the art methods should be provided in *pymoo* as well.\n",
    "\n",
    "- **Interactive Visualization:** Our framework provides static visualization for the objective space in higher dimensions. However, it would be nice to make it possible to interactively explore solutions. A good choice would be a web based application with a javascript/typescript based interface using *pymoo* to answer requests necessary for plotting or optimization\n",
    "\n",
    "- **Other Topcis:** Those are topics that came to our mind. However, there are many more things related to multi-objective optimization that are interesting and standard implementation in a framework would be useful!"
   ]
  },
  {
   "cell_type": "markdown",
   "metadata": {},
   "source": [
    "If you are interested in any of those topics please let us know."
   ]
  }
 ],
 "metadata": {
  "kernelspec": {
   "display_name": "Python 3",
   "language": "python",
   "name": "python3"
  },
  "language_info": {
   "codemirror_mode": {
    "name": "ipython",
    "version": 3
   },
   "file_extension": ".py",
   "mimetype": "text/x-python",
   "name": "python",
   "nbconvert_exporter": "python",
   "pygments_lexer": "ipython3",
   "version": "3.7.4"
  }
 },
 "nbformat": 4,
 "nbformat_minor": 2
}
